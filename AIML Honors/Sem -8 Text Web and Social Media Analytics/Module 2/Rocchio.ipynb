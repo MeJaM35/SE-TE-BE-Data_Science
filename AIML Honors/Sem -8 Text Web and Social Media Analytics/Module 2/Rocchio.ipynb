{
  "nbformat": 4,
  "nbformat_minor": 0,
  "metadata": {
    "colab": {
      "provenance": []
    },
    "kernelspec": {
      "name": "python3",
      "display_name": "Python 3"
    },
    "language_info": {
      "name": "python"
    }
  },
  "cells": [
    {
      "cell_type": "code",
      "source": [
        "import numpy as np\n",
        "from sklearn.feature_extraction.text import CountVectorizer\n",
        "from sklearn.metrics.pairwise import cosine_similarity"
      ],
      "metadata": {
        "id": "qoKjGTE86md5"
      },
      "execution_count": null,
      "outputs": []
    },
    {
      "cell_type": "code",
      "source": [
        "# Step 1: Define the data\n",
        "technology_docs = [\n",
        "    \"AI advancements in machine learning.\",\n",
        "    \"New algorithms for big data analysis.\"\n",
        "]\n",
        "\n",
        "health_docs = [\n",
        "    \"Meditation improves mental health.\",\n",
        "    \"Health benefits of balanced nutrition.\"\n",
        "]\n",
        "\n",
        "test_doc = \"AI for healthcare advancements.\"\n"
      ],
      "metadata": {
        "id": "aXY2z_R_6pBb"
      },
      "execution_count": null,
      "outputs": []
    },
    {
      "cell_type": "code",
      "source": [
        "# Step 2: Preprocessing and vectorization\n",
        "all_docs = technology_docs + health_docs + [test_doc]\n",
        "\n",
        "\n",
        "# Use CountVectorizer to tokenize and vectorize\n",
        "vectorizer = CountVectorizer()\n",
        "term_matrix = vectorizer.fit_transform(all_docs).toarray()\n",
        "\n",
        "# Get term frequencies\n",
        "feature_names = vectorizer.get_feature_names_out()\n",
        "tech_matrix = term_matrix[:len(technology_docs)]\n",
        "health_matrix = term_matrix[len(technology_docs):-1]\n",
        "test_vector = term_matrix[-1]\n"
      ],
      "metadata": {
        "id": "eDAhaCxr6wIM"
      },
      "execution_count": null,
      "outputs": []
    },
    {
      "cell_type": "code",
      "source": [
        "# Step 3: Compute Rocchio weights\n",
        "alpha_p, alpha_n = 1, 0.5\n",
        "\n",
        "tech_centroid = alpha_p * tech_matrix.mean(axis=0) - alpha_n * health_matrix.mean(axis=0)\n",
        "health_centroid = alpha_p * health_matrix.mean(axis=0) - alpha_n * tech_matrix.mean(axis=0)\n"
      ],
      "metadata": {
        "id": "CwsKtYDV6yS8"
      },
      "execution_count": null,
      "outputs": []
    },
    {
      "cell_type": "code",
      "source": [
        "# Step 4: Compute cosine similarity\n",
        "def cosine_sim(vector1, vector2):\n",
        "    return cosine_similarity([vector1], [vector2])[0, 0]\n",
        "\n",
        "tech_similarity = cosine_sim(test_vector, tech_centroid)\n",
        "health_similarity = cosine_sim(test_vector, health_centroid)\n",
        "\n"
      ],
      "metadata": {
        "id": "_AkzTzS-64FI"
      },
      "execution_count": null,
      "outputs": []
    },
    {
      "cell_type": "code",
      "execution_count": null,
      "metadata": {
        "colab": {
          "base_uri": "https://localhost:8080/"
        },
        "id": "Be3eqkPf6S2A",
        "outputId": "aa7e3f25-b219-42a9-aa40-467e9cf8d0cb"
      },
      "outputs": [
        {
          "output_type": "stream",
          "name": "stdout",
          "text": [
            "Feature Names: ['advancements' 'ai' 'algorithms' 'analysis' 'balanced' 'benefits' 'big'\n",
            " 'data' 'for' 'health' 'healthcare' 'improves' 'in' 'learning' 'machine'\n",
            " 'meditation' 'mental' 'new' 'nutrition' 'of']\n",
            "Test Document Vector: [1 1 0 0 0 0 0 0 1 0 1 0 0 0 0 0 0 0 0 0]\n",
            "Technology Centroid: [ 0.5   0.5   0.5   0.5  -0.25 -0.25  0.5   0.5   0.5  -0.5   0.   -0.25\n",
            "  0.5   0.5   0.5  -0.25 -0.25  0.5  -0.25 -0.25]\n",
            "Health Centroid: [-0.25 -0.25 -0.25 -0.25  0.5   0.5  -0.25 -0.25 -0.25  1.    0.    0.5\n",
            " -0.25 -0.25 -0.25  0.5   0.5  -0.25  0.5   0.5 ]\n",
            "Similarity with Technology: 0.405\n",
            "Similarity with Health: -0.202\n",
            "Predicted Class: Technology\n"
          ]
        }
      ],
      "source": [
        "\n",
        "# Step 5: Classification\n",
        "if tech_similarity > health_similarity:\n",
        "    predicted_class = \"Technology\"\n",
        "else:\n",
        "    predicted_class = \"Health\"\n",
        "\n",
        "# Print results\n",
        "print(\"Feature Names:\", feature_names)\n",
        "print(\"Test Document Vector:\", test_vector)\n",
        "print(\"Technology Centroid:\", tech_centroid)\n",
        "print(\"Health Centroid:\", health_centroid)\n",
        "print(f\"Similarity with Technology: {tech_similarity:.3f}\")\n",
        "print(f\"Similarity with Health: {health_similarity:.3f}\")\n",
        "print(f\"Predicted Class: {predicted_class}\")\n"
      ]
    }
  ]
}