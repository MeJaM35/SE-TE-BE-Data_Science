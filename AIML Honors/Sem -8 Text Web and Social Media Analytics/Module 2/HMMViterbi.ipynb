{
  "nbformat": 4,
  "nbformat_minor": 0,
  "metadata": {
    "colab": {
      "provenance": []
    },
    "kernelspec": {
      "name": "python3",
      "display_name": "Python 3"
    },
    "language_info": {
      "name": "python"
    }
  },
  "cells": [
    {
      "cell_type": "code",
      "execution_count": null,
      "metadata": {
        "colab": {
          "base_uri": "https://localhost:8080/"
        },
        "id": "GOkFckwprxAT",
        "outputId": "4f2c64f0-6730-4fc1-d52b-fe2071a2905e"
      },
      "outputs": [
        {
          "output_type": "stream",
          "name": "stdout",
          "text": [
            "Most probable sequence of states:\n",
            "['Rainy', 'Cloudy', 'Rainy', 'Cloudy']\n"
          ]
        }
      ],
      "source": [
        "import numpy as np\n",
        "\n",
        "# Define states and observations\n",
        "states = ['Cloudy', 'Rainy', 'Sunny']\n",
        "observations = ['U', 'N', 'R']  # Umbrella, Normal Person, Person in Raincoat\n",
        "\n",
        "# Define transition probabilities (state to state)\n",
        "transition_probs = {\n",
        "    'Cloudy': {'Cloudy': 0.4, 'Rainy': 0.4, 'Sunny': 0.2},\n",
        "    'Rainy': {'Cloudy': 0.3, 'Rainy': 0.4, 'Sunny': 0.3},\n",
        "    'Sunny': {'Cloudy': 0.3, 'Rainy': 0.2, 'Sunny': 0.5}\n",
        "}\n",
        "\n",
        "# Define emission probabilities (state to observation)\n",
        "emission_probs = {\n",
        "    'Cloudy': {'U': 0.3, 'N': 0.5, 'R': 0.2},\n",
        "    'Rainy': {'U': 0.6, 'N': 0.3, 'R': 0.1},\n",
        "    'Sunny': {'U': 0.1, 'N': 0.7, 'R': 0.2}\n",
        "}\n",
        "\n",
        "# Initial probabilities for the states\n",
        "initial_probs = {'Cloudy': 0.3, 'Rainy': 0.4, 'Sunny': 0.3}\n",
        "\n",
        "# Observation sequence: U, N, U, R (Umbrella, Normal, Umbrella, Raincoat)\n",
        "obs_seq = ['U', 'N', 'U', 'R']\n",
        "\n",
        "# Helper function to get the index of each state and observation\n",
        "state_idx = {state: i for i, state in enumerate(states)}\n",
        "obs_idx = {obs: i for i, obs in enumerate(observations)}\n",
        "\n",
        "# Initialize the Viterbi algorithm table\n",
        "n_states = len(states)\n",
        "n_obs = len(obs_seq)\n",
        "\n",
        "# Viterbi table to store the probabilities and the path\n",
        "viterbi = np.zeros((n_states, n_obs))\n",
        "backpointer = np.zeros((n_states, n_obs), dtype=int)\n",
        "\n",
        "# Initialize the first column (for the first observation)\n",
        "for s in range(n_states):\n",
        "    viterbi[s, 0] = initial_probs[states[s]] * emission_probs[states[s]][obs_seq[0]]\n",
        "\n",
        "# Fill the Viterbi table\n",
        "for t in range(1, n_obs):\n",
        "    for s in range(n_states):\n",
        "        # Calculate the maximum probability for each state\n",
        "        max_prob = -1\n",
        "        max_state = -1\n",
        "        for prev_s in range(n_states):\n",
        "            prob = viterbi[prev_s, t-1] * transition_probs[states[prev_s]][states[s]] * emission_probs[states[s]][obs_seq[t]]\n",
        "            if prob > max_prob:\n",
        "                max_prob = prob\n",
        "                max_state = prev_s\n",
        "        viterbi[s, t] = max_prob\n",
        "        backpointer[s, t] = max_state\n",
        "\n",
        "# Backtrack to find the most probable state sequence\n",
        "best_path = np.zeros(n_obs, dtype=int)\n",
        "best_path[-1] = np.argmax(viterbi[:, n_obs-1])\n",
        "\n",
        "for t in range(n_obs-2, -1, -1):\n",
        "    best_path[t] = backpointer[best_path[t+1], t+1]\n",
        "\n",
        "# Convert the state indices to state names\n",
        "best_state_sequence = [states[i] for i in best_path]\n",
        "\n",
        "# Output the most probable sequence of states\n",
        "print(\"Most probable sequence of states:\")\n",
        "print(best_state_sequence)\n"
      ]
    }
  ]
}