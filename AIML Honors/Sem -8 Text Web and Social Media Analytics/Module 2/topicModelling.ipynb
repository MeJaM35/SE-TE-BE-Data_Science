{
  "nbformat": 4,
  "nbformat_minor": 0,
  "metadata": {
    "colab": {
      "provenance": []
    },
    "kernelspec": {
      "name": "python3",
      "display_name": "Python 3"
    },
    "language_info": {
      "name": "python"
    }
  },
  "cells": [
    {
      "cell_type": "code",
      "source": [
        "!pip install gensim\n",
        "!pip install nltk\n"
      ],
      "metadata": {
        "colab": {
          "base_uri": "https://localhost:8080/"
        },
        "id": "_Bvww7MQOEhy",
        "outputId": "758a4b3e-d837-41cc-d7af-28e5ae0d21d5"
      },
      "execution_count": null,
      "outputs": [
        {
          "output_type": "stream",
          "name": "stdout",
          "text": [
            "Requirement already satisfied: gensim in /usr/local/lib/python3.11/dist-packages (4.3.3)\n",
            "Requirement already satisfied: numpy<2.0,>=1.18.5 in /usr/local/lib/python3.11/dist-packages (from gensim) (1.26.4)\n",
            "Requirement already satisfied: scipy<1.14.0,>=1.7.0 in /usr/local/lib/python3.11/dist-packages (from gensim) (1.13.1)\n",
            "Requirement already satisfied: smart-open>=1.8.1 in /usr/local/lib/python3.11/dist-packages (from gensim) (7.1.0)\n",
            "Requirement already satisfied: wrapt in /usr/local/lib/python3.11/dist-packages (from smart-open>=1.8.1->gensim) (1.17.0)\n",
            "Requirement already satisfied: nltk in /usr/local/lib/python3.11/dist-packages (3.9.1)\n",
            "Requirement already satisfied: click in /usr/local/lib/python3.11/dist-packages (from nltk) (8.1.8)\n",
            "Requirement already satisfied: joblib in /usr/local/lib/python3.11/dist-packages (from nltk) (1.4.2)\n",
            "Requirement already satisfied: regex>=2021.8.3 in /usr/local/lib/python3.11/dist-packages (from nltk) (2024.11.6)\n",
            "Requirement already satisfied: tqdm in /usr/local/lib/python3.11/dist-packages (from nltk) (4.67.1)\n"
          ]
        }
      ]
    },
    {
      "cell_type": "code",
      "source": [
        "import nltk\n",
        "from nltk.corpus import stopwords\n",
        "from gensim import corpora\n",
        "from gensim.models import LdaModel\n",
        "\n",
        "# Ensure that the NLTK stopwords corpus is downloaded\n",
        "nltk.download('stopwords')\n",
        "\n",
        "# Define a small corpus of documents\n",
        "documents = [\n",
        "    \"Cats are great pets. They love to chase mice.\",\n",
        "    \"Dogs are loyal companions. They like to play fetch.\",\n",
        "    \"Cats and dogs are common pets. Many people love them.\"\n",
        "]\n",
        "\n",
        "# Preprocessing: Tokenize, remove stopwords, and perform basic text cleaning\n",
        "stop_words = set(stopwords.words('english'))\n",
        "\n",
        "def preprocess_text(text):\n",
        "    # Tokenize and remove stopwords\n",
        "    tokens = text.lower().split()  # Split on whitespace and convert to lowercase\n",
        "    tokens = [word for word in tokens if word not in stop_words and word.isalpha()]\n",
        "    return tokens\n",
        "\n",
        "# Apply preprocessing to the corpus\n",
        "processed_docs = [preprocess_text(doc) for doc in documents]\n",
        "\n",
        "# Create a dictionary from the processed documents\n",
        "dictionary = corpora.Dictionary(processed_docs)\n",
        "\n",
        "# Create a corpus from the dictionary\n",
        "corpus = [dictionary.doc2bow(doc) for doc in processed_docs]\n",
        "\n",
        "# Apply LDA topic modeling\n",
        "num_topics = 2  # Number of topics to find\n",
        "lda_model = LdaModel(corpus, num_topics=num_topics, id2word=dictionary, passes=15)\n",
        "\n",
        "# Print the topics and their top terms\n",
        "for topic_id, topic_terms in lda_model.print_topics(num_topics=num_topics, num_words=5):\n",
        "    print(f\"Topic {topic_id + 1}: {topic_terms}\")\n",
        "\n",
        "# Infer topics for a new unseen document\n",
        "new_doc = \"I love my cat. She is so playful and fun.\"\n",
        "new_doc_processed = preprocess_text(new_doc)\n",
        "new_doc_bow = dictionary.doc2bow(new_doc_processed)\n",
        "\n",
        "# Get the topic distribution for the new document\n",
        "topic_distribution = lda_model.get_document_topics(new_doc_bow)\n",
        "print(f\"Topic distribution for the new document: {topic_distribution}\")\n"
      ],
      "metadata": {
        "colab": {
          "base_uri": "https://localhost:8080/"
        },
        "id": "-JwWk-1LOGDZ",
        "outputId": "8a2a1558-71b4-4e85-e1c5-98c9082bb825"
      },
      "execution_count": null,
      "outputs": [
        {
          "output_type": "stream",
          "name": "stdout",
          "text": [
            "Topic 1: 0.190*\"cats\" + 0.190*\"love\" + 0.132*\"chase\" + 0.132*\"great\" + 0.057*\"many\"\n",
            "Topic 2: 0.178*\"dogs\" + 0.109*\"like\" + 0.109*\"play\" + 0.109*\"loyal\" + 0.100*\"people\"\n",
            "Topic distribution for the new document: [(0, 0.7332754), (1, 0.26672462)]\n"
          ]
        },
        {
          "output_type": "stream",
          "name": "stderr",
          "text": [
            "[nltk_data] Downloading package stopwords to /root/nltk_data...\n",
            "[nltk_data]   Unzipping corpora/stopwords.zip.\n"
          ]
        }
      ]
    }
  ]
}