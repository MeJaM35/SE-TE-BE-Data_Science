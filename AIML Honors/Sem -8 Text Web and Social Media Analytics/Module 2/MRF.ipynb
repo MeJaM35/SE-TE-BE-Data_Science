{
  "nbformat": 4,
  "nbformat_minor": 0,
  "metadata": {
    "colab": {
      "provenance": []
    },
    "kernelspec": {
      "name": "python3",
      "display_name": "Python 3"
    },
    "language_info": {
      "name": "python"
    }
  },
  "cells": [
    {
      "cell_type": "code",
      "execution_count": null,
      "metadata": {
        "colab": {
          "base_uri": "https://localhost:8080/"
        },
        "id": "h1DIaWyiWczK",
        "outputId": "884ef3ba-7799-4481-9c68-4c24b94c7e9a"
      },
      "outputs": [
        {
          "output_type": "stream",
          "name": "stdout",
          "text": [
            "Joint Probability for configuration [0, 1, 0, 1, 0]: 0.00015552\n"
          ]
        }
      ],
      "source": [
        "import numpy as np\n",
        "import networkx as nx\n",
        "\n",
        "# Define the MRF structure (graph)\n",
        "G = nx.Graph()\n",
        "\n",
        "# Add nodes (locations)\n",
        "locations = ['A', 'B', 'C', 'D', 'E']\n",
        "G.add_nodes_from(locations)\n",
        "\n",
        "# Add edges (connections between neighboring locations)\n",
        "edges = [('A', 'B'), ('B', 'C'), ('A', 'D'), ('D', 'E')]\n",
        "G.add_edges_from(edges)\n",
        "\n",
        "# Define unary potentials (probabilities for each location)\n",
        "node_potentials = {\n",
        "    'A': np.array([0.8, 0.2]),  # P(A=0), P(A=1) -> 0.8 No Rain, 0.2 Rain\n",
        "    'B': np.array([0.7, 0.3]),  # P(B=0), P(B=1)\n",
        "    'C': np.array([0.6, 0.4]),  # P(C=0), P(C=1)\n",
        "    'D': np.array([0.5, 0.5]),  # P(D=0), P(D=1)\n",
        "    'E': np.array([0.9, 0.1])   # P(E=0), P(E=1)\n",
        "}\n",
        "\n",
        "# Define pairwise potentials (probabilities for neighboring pairs)\n",
        "edge_potentials = {\n",
        "    ('A', 'B'): np.array([[0.9, 0.1], [0.1, 0.9]]),  # P(A, B)\n",
        "    ('B', 'C'): np.array([[0.8, 0.2], [0.2, 0.8]]),  # P(B, C)\n",
        "    ('A', 'D'): np.array([[0.7, 0.3], [0.3, 0.7]]),  # P(A, D)\n",
        "    ('D', 'E'): np.array([[0.6, 0.4], [0.4, 0.6]])   # P(D, E)\n",
        "}\n",
        "\n",
        "# Function to calculate the joint probability for a given configuration of weather states\n",
        "def calculate_joint_probability(config):\n",
        "    joint_prob = 1\n",
        "    # Account for unary potentials (individual locations)\n",
        "    for location, state in zip(locations, config):\n",
        "        joint_prob *= node_potentials[location][state]\n",
        "\n",
        "    # Account for pairwise potentials (between neighboring locations)\n",
        "    for (u, v) in G.edges:\n",
        "        joint_prob *= edge_potentials[(u, v)][config[locations.index(u)], config[locations.index(v)]]\n",
        "\n",
        "    return joint_prob\n",
        "\n",
        "# Example configuration: [0, 1, 0, 1, 0]\n",
        "# (No Rain at A, Rain at B, No Rain at C, Rain at D, No Rain at E)\n",
        "config = [0, 1, 0, 1, 0]\n",
        "joint_prob = calculate_joint_probability(config)\n",
        "\n",
        "# Output the joint probability of this configuration\n",
        "print(f\"Joint Probability for configuration {config}: {joint_prob}\")\n",
        "\n"
      ]
    }
  ]
}