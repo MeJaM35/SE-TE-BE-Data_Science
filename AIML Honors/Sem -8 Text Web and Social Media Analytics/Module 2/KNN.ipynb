{
  "nbformat": 4,
  "nbformat_minor": 0,
  "metadata": {
    "colab": {
      "provenance": []
    },
    "kernelspec": {
      "name": "python3",
      "display_name": "Python 3"
    },
    "language_info": {
      "name": "python"
    }
  },
  "cells": [
    {
      "cell_type": "code",
      "execution_count": null,
      "metadata": {
        "id": "R-Xk81DaP3uz",
        "outputId": "a3305494-0cc6-4eb3-c363-9d7adb6c2058",
        "colab": {
          "base_uri": "https://localhost:8080/"
        }
      },
      "outputs": [
        {
          "output_type": "stream",
          "name": "stdout",
          "text": [
            "Distances to Training Data:\n",
            "Email 3: Distance = 1.41, Class = Spam\n",
            "Email 1: Distance = 2.00, Class = Spam\n",
            "Email 2: Distance = 5.10, Class = Not Spam\n",
            "Email 4: Distance = 6.16, Class = Not Spam\n",
            "\n",
            "Nearest Neighbors:\n",
            "Email 3: Distance = 1.41, Class = Spam\n",
            "Email 1: Distance = 2.00, Class = Spam\n",
            "Email 2: Distance = 5.10, Class = Not Spam\n",
            "\n",
            "Predicted Class for Test Email: Spam\n"
          ]
        }
      ],
      "source": [
        "import numpy as np\n",
        "\n",
        "# Step 1: Define the data\n",
        "training_data = [\n",
        "    {\"features\": [3, 4, 0, 0], \"class\": \"Spam\"},\n",
        "    {\"features\": [0, 0, 3, 4], \"class\": \"Not Spam\"},\n",
        "    {\"features\": [2, 3, 0, 0], \"class\": \"Spam\"},\n",
        "    {\"features\": [0, 0, 4, 5], \"class\": \"Not Spam\"}\n",
        "]\n",
        "\n",
        "test_email = [2, 3, 1, 1]  # Test email features\n",
        "\n",
        "# Step 2: Define the distance function (Euclidean Distance)\n",
        "def euclidean_distance(vec1, vec2):\n",
        "    return np.sqrt(np.sum((np.array(vec1) - np.array(vec2)) ** 2))\n",
        "\n",
        "# Step 3: Compute distances\n",
        "distances = []\n",
        "for idx, data in enumerate(training_data):\n",
        "    dist = euclidean_distance(test_email, data[\"features\"])\n",
        "    distances.append((idx, dist, data[\"class\"]))\n",
        "\n",
        "# Sort distances by the second element (distance)\n",
        "distances.sort(key=lambda x: x[1])\n",
        "\n",
        "# Step 4: Select k nearest neighbors\n",
        "k = 3\n",
        "nearest_neighbors = distances[:k]\n",
        "\n",
        "# Step 5: Perform majority voting\n",
        "classes = [neighbor[2] for neighbor in nearest_neighbors]\n",
        "predicted_class = max(set(classes), key=classes.count)\n",
        "\n",
        "# Print results\n",
        "print(\"Distances to Training Data:\")\n",
        "for idx, dist, cls in distances:\n",
        "    print(f\"Email {idx + 1}: Distance = {dist:.2f}, Class = {cls}\")\n",
        "\n",
        "print(\"\\nNearest Neighbors:\")\n",
        "for idx, dist, cls in nearest_neighbors:\n",
        "    print(f\"Email {idx + 1}: Distance = {dist:.2f}, Class = {cls}\")\n",
        "\n",
        "print(f\"\\nPredicted Class for Test Email: {predicted_class}\")\n"
      ]
    }
  ]
}