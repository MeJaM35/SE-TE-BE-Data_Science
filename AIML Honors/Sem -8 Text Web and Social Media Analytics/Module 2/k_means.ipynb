{
  "nbformat": 4,
  "nbformat_minor": 0,
  "metadata": {
    "colab": {
      "provenance": []
    },
    "kernelspec": {
      "name": "python3",
      "display_name": "Python 3"
    },
    "language_info": {
      "name": "python"
    }
  },
  "cells": [
    {
      "cell_type": "markdown",
      "source": [
        "#Text Clustering Using K-means"
      ],
      "metadata": {
        "id": "JTn0rGl3X0ck"
      }
    },
    {
      "cell_type": "code",
      "execution_count": null,
      "metadata": {
        "colab": {
          "base_uri": "https://localhost:8080/"
        },
        "id": "qKaeDukjXTDF",
        "outputId": "52c8576b-95d3-4a4b-d59a-ab1d786d425a"
      },
      "outputs": [
        {
          "output_type": "stream",
          "name": "stdout",
          "text": [
            "Cluster Labels: [0 0 0 1 1 0 0]\n",
            "Silhouette Score: 0.10832756748515583\n",
            "\n",
            "Cluster 0:\n",
            "  The sky is blue and beautiful\n",
            "  Love this blue and bright sky!\n",
            "  The quick brown fox jumps over the lazy dog\n",
            "  The fox is quick and the sky is blue\n",
            "  The lazy dog is sleeping\n",
            "\n",
            "Cluster 1:\n",
            "  A king's breakfast has sausages, ham, and bacon\n",
            "  Breakfast is the most important meal of the day\n"
          ]
        }
      ],
      "source": [
        "from sklearn.feature_extraction.text import TfidfVectorizer\n",
        "from sklearn.cluster import KMeans\n",
        "from sklearn.metrics import silhouette_score\n",
        "\n",
        "# Sample text documents\n",
        "documents = [\n",
        "    \"The sky is blue and beautiful\",\n",
        "    \"Love this blue and bright sky!\",\n",
        "    \"The quick brown fox jumps over the lazy dog\",\n",
        "    \"A king's breakfast has sausages, ham, and bacon\",\n",
        "    \"Breakfast is the most important meal of the day\",\n",
        "    \"The fox is quick and the sky is blue\",\n",
        "    \"The lazy dog is sleeping\"\n",
        "]\n",
        "\n",
        "# Step 1: Preprocessing and Representation (TF-IDF)\n",
        "vectorizer = TfidfVectorizer(stop_words='english')\n",
        "X = vectorizer.fit_transform(documents)\n",
        "\n",
        "# Step 2: K-Means Clustering\n",
        "k = 2  # Number of clusters\n",
        "kmeans = KMeans(n_clusters=k, random_state=42)\n",
        "kmeans.fit(X)\n",
        "\n",
        "# Step 3: Evaluate and Visualize\n",
        "labels = kmeans.labels_\n",
        "print(\"Cluster Labels:\", labels)\n",
        "print(\"Silhouette Score:\", silhouette_score(X, labels))\n",
        "\n",
        "# Optional: View Clustered Documents\n",
        "clusters = {i: [] for i in range(k)}\n",
        "for doc, label in zip(documents, labels):\n",
        "    clusters[label].append(doc)\n",
        "\n",
        "for cluster, docs in clusters.items():\n",
        "    print(f\"\\nCluster {cluster}:\")\n",
        "    for doc in docs:\n",
        "        print(f\"  {doc}\")\n"
      ]
    },
    {
      "cell_type": "code",
      "source": [
        "print(X)"
      ],
      "metadata": {
        "colab": {
          "base_uri": "https://localhost:8080/"
        },
        "id": "QbES-g4JldMR",
        "outputId": "94a23a22-03e0-4a63-8a33-9b32726dcab5"
      },
      "execution_count": null,
      "outputs": [
        {
          "output_type": "stream",
          "name": "stdout",
          "text": [
            "  (0, 18)\t0.5008545010485238\n",
            "  (0, 2)\t0.5008545010485238\n",
            "  (0, 1)\t0.7058962654376836\n",
            "  (1, 18)\t0.40917934949647056\n",
            "  (1, 2)\t0.40917934949647056\n",
            "  (1, 14)\t0.5766907836489544\n",
            "  (1, 4)\t0.5766907836489544\n",
            "  (2, 16)\t0.3806223876169572\n",
            "  (2, 5)\t0.45853374585687096\n",
            "  (2, 8)\t0.3806223876169572\n",
            "  (2, 11)\t0.45853374585687096\n",
            "  (2, 13)\t0.3806223876169572\n",
            "  (2, 7)\t0.3806223876169572\n",
            "  (3, 12)\t0.4618042361109319\n",
            "  (3, 3)\t0.38333717539523177\n",
            "  (3, 17)\t0.4618042361109319\n",
            "  (3, 9)\t0.4618042361109319\n",
            "  (3, 0)\t0.4618042361109319\n",
            "  (4, 3)\t0.43218152024617124\n",
            "  (4, 10)\t0.5206467559864713\n",
            "  (4, 15)\t0.5206467559864713\n",
            "  (4, 6)\t0.5206467559864713\n",
            "  (5, 18)\t0.4594423394960551\n",
            "  (5, 2)\t0.4594423394960551\n",
            "  (5, 16)\t0.5375060340855641\n",
            "  (5, 8)\t0.5375060340855641\n",
            "  (6, 13)\t0.5382813427107301\n",
            "  (6, 7)\t0.5382813427107301\n",
            "  (6, 19)\t0.6484646421965249\n"
          ]
        }
      ]
    },
    {
      "cell_type": "code",
      "source": [
        "from sklearn.feature_extraction.text import TfidfVectorizer\n",
        "from sklearn.cluster import KMeans\n",
        "\n",
        "# Dataset\n",
        "headlines = [\n",
        "    \"Global warming is causing extreme weather events.\",\n",
        "    \"Scientists discuss the impact of climate change.\",\n",
        "    \"The stock market sees a significant downturn today.\",\n",
        "    \"Investors are concerned about economic instability.\",\n",
        "    \"New technologies are being developed to combat global warming.\",\n",
        "    \"The central bank announces interest rate hikes.\",\n",
        "    \"Economic policies are driving investor decisions.\"\n",
        "]\n",
        "\n",
        "# Vectorization\n",
        "vectorizer = TfidfVectorizer(stop_words='english')\n",
        "X = vectorizer.fit_transform(headlines)\n",
        "\n",
        "# K-Means Clustering\n",
        "kmeans = KMeans(n_clusters=2, random_state=42)\n",
        "kmeans.fit(X)\n",
        "\n",
        "# Results\n",
        "labels = kmeans.labels_\n",
        "clusters = {i: [] for i in range(2)}\n",
        "for idx, label in enumerate(labels):\n",
        "    clusters[label].append(headlines[idx])\n",
        "\n",
        "for cluster, docs in clusters.items():\n",
        "    print(f\"Cluster {cluster}:\")\n",
        "    for doc in docs:\n",
        "        print(f\"  {doc}\")\n"
      ],
      "metadata": {
        "colab": {
          "base_uri": "https://localhost:8080/"
        },
        "id": "l55MolGKd4Wp",
        "outputId": "30275526-a7a2-4e1a-ea5f-7ed638d02f5a"
      },
      "execution_count": null,
      "outputs": [
        {
          "output_type": "stream",
          "name": "stdout",
          "text": [
            "Cluster 0:\n",
            "  Global warming is causing extreme weather events.\n",
            "  Scientists discuss the impact of climate change.\n",
            "  The stock market sees a significant downturn today.\n",
            "  New technologies are being developed to combat global warming.\n",
            "  The central bank announces interest rate hikes.\n",
            "Cluster 1:\n",
            "  Investors are concerned about economic instability.\n",
            "  Economic policies are driving investor decisions.\n"
          ]
        }
      ]
    },
    {
      "cell_type": "markdown",
      "source": [
        "![image.png](data:image/png;base64,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)"
      ],
      "metadata": {
        "id": "aJQtaLLpe35o"
      }
    }
  ]
}