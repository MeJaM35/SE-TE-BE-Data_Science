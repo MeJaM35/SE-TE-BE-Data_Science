{
  "nbformat": 4,
  "nbformat_minor": 0,
  "metadata": {
    "colab": {
      "provenance": []
    },
    "kernelspec": {
      "name": "python3",
      "display_name": "Python 3"
    },
    "language_info": {
      "name": "python"
    }
  },
  "cells": [
    {
      "cell_type": "markdown",
      "source": [
        "#Python Implementation for Text Clustering Using K-Medoids"
      ],
      "metadata": {
        "id": "Zkyr64RgXqJZ"
      }
    },
    {
      "cell_type": "code",
      "execution_count": null,
      "metadata": {
        "colab": {
          "base_uri": "https://localhost:8080/"
        },
        "id": "CxaSHAnnXjJ1",
        "outputId": "5a8385b4-d627-4677-d79e-7ddb31efab34"
      },
      "outputs": [
        {
          "output_type": "stream",
          "name": "stdout",
          "text": [
            "Medoids: ['The quick brown fox jumps over the lazy dog', \"A king's breakfast has sausages, ham, and bacon\", 'The fox is quick and the sky is blue']\n",
            "\n",
            "Cluster 0:\n",
            "  The quick brown fox jumps over the lazy dog\n",
            "  The lazy dog is sleeping\n",
            "\n",
            "Cluster 1:\n",
            "  A king's breakfast has sausages, ham, and bacon\n",
            "  Breakfast is the most important meal of the day\n",
            "\n",
            "Cluster 2:\n",
            "  The sky is blue and beautiful\n",
            "  Love this blue and bright sky!\n",
            "  The fox is quick and the sky is blue\n"
          ]
        }
      ],
      "source": [
        "import numpy as np\n",
        "from sklearn.metrics.pairwise import cosine_distances\n",
        "from sklearn.feature_extraction.text import TfidfVectorizer\n",
        "\n",
        "# Sample text documents\n",
        "documents = [\n",
        "    \"The sky is blue and beautiful\",\n",
        "    \"Love this blue and bright sky!\",\n",
        "    \"The quick brown fox jumps over the lazy dog\",\n",
        "    \"A king's breakfast has sausages, ham, and bacon\",\n",
        "    \"Breakfast is the most important meal of the day\",\n",
        "    \"The fox is quick and the sky is blue\",\n",
        "    \"The lazy dog is sleeping\"\n",
        "]\n",
        "\n",
        "# Step 1: Preprocessing and TF-IDF\n",
        "vectorizer = TfidfVectorizer(stop_words='english')\n",
        "X = vectorizer.fit_transform(documents).toarray()\n",
        "\n",
        "# Step 2: Initialize K-Medoids\n",
        "k = 3  # Number of clusters\n",
        "initial_medoids = np.random.choice(len(X), size=k, replace=False)\n",
        "medoids = X[initial_medoids]\n",
        "\n",
        "# Step 3: K-Medoids Algorithm\n",
        "def kmedoids(X, medoids, max_iter=100):\n",
        "    for _ in range(max_iter):\n",
        "        # Compute distance between points and medoids\n",
        "        distances = cosine_distances(X, medoids)\n",
        "        labels = np.argmin(distances, axis=1)\n",
        "\n",
        "        # Update medoids\n",
        "        new_medoids = []\n",
        "        for i in range(len(medoids)):\n",
        "            cluster_points = X[labels == i]\n",
        "            if len(cluster_points) > 0:\n",
        "                # Choose new medoid as the point minimizing the total distance\n",
        "                medoid_index = np.argmin(np.sum(cosine_distances(cluster_points), axis=1))\n",
        "                new_medoids.append(cluster_points[medoid_index])\n",
        "            else:\n",
        "                new_medoids.append(medoids[i])\n",
        "\n",
        "        new_medoids = np.array(new_medoids)\n",
        "        if np.all(medoids == new_medoids):\n",
        "            break\n",
        "        medoids = new_medoids\n",
        "\n",
        "    return medoids, labels\n",
        "\n",
        "# Run K-Medoids\n",
        "final_medoids, labels = kmedoids(X, medoids)\n",
        "\n",
        "# Step 4: Output Results\n",
        "clusters = {i: [] for i in range(k)}\n",
        "for idx, label in enumerate(labels):\n",
        "    clusters[label].append(documents[idx])\n",
        "\n",
        "print(\"Medoids:\", [documents[initial_medoids[i]] for i in range(k)])\n",
        "for cluster_id, docs in clusters.items():\n",
        "    print(f\"\\nCluster {cluster_id}:\")\n",
        "    for doc in docs:\n",
        "        print(f\"  {doc}\")\n"
      ]
    },
    {
      "cell_type": "markdown",
      "source": [],
      "metadata": {
        "id": "g9hN4ycJXpSs"
      }
    }
  ]
}